{
 "cells": [
  {
   "cell_type": "code",
   "execution_count": null,
   "id": "a06dd29d",
   "metadata": {},
   "outputs": [],
   "source": [
    "# Minimal imports\n",
    "import numpy as np\n",
    "import librosa\n",
    "import librosa.display\n",
    "from scipy.io.wavfile import write\n",
    "\n",
    "# Small utils\n",
    "def _safe_slice(y, s0, s1):\n",
    "    s0 = max(0, min(int(s0), len(y)))\n",
    "    s1 = max(0, min(int(s1), len(y)))\n",
    "    return y[s0:s1]\n",
    "\n",
    "def _rms(x: np.ndarray) -> float:\n",
    "    return float(np.sqrt(np.mean(x * x) + 1e-12))"
   ]
  }
 ],
 "metadata": {
  "kernelspec": {
   "display_name": "Project (3.10.16)",
   "language": "python",
   "name": "python3"
  },
  "language_info": {
   "name": "python",
   "version": "3.10.16"
  }
 },
 "nbformat": 4,
 "nbformat_minor": 5
}
